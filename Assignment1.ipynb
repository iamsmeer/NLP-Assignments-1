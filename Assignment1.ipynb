{
 "cells": [
  {
   "cell_type": "code",
   "execution_count": 2,
   "metadata": {
    "colab": {
     "base_uri": "https://localhost:8080/",
     "height": 850
    },
    "colab_type": "code",
    "id": "37ZYy9o0KL-g",
    "outputId": "e66289c0-8e4c-4331-cc35-c6b94807340a"
   },
   "outputs": [
    {
     "name": "stderr",
     "output_type": "stream",
     "text": [
      "[nltk_data] Downloading collection 'popular'\n",
      "[nltk_data]    | \n",
      "[nltk_data]    | Downloading package cmudict to\n",
      "[nltk_data]    |     C:\\Users\\babybomber\\AppData\\Roaming\\nltk_data...\n",
      "[nltk_data]    |   Unzipping corpora\\cmudict.zip.\n",
      "[nltk_data]    | Downloading package gazetteers to\n",
      "[nltk_data]    |     C:\\Users\\babybomber\\AppData\\Roaming\\nltk_data...\n",
      "[nltk_data]    |   Unzipping corpora\\gazetteers.zip.\n",
      "[nltk_data]    | Downloading package genesis to\n",
      "[nltk_data]    |     C:\\Users\\babybomber\\AppData\\Roaming\\nltk_data...\n",
      "[nltk_data]    |   Unzipping corpora\\genesis.zip.\n",
      "[nltk_data]    | Downloading package gutenberg to\n",
      "[nltk_data]    |     C:\\Users\\babybomber\\AppData\\Roaming\\nltk_data...\n",
      "[nltk_data]    |   Unzipping corpora\\gutenberg.zip.\n",
      "[nltk_data]    | Downloading package inaugural to\n",
      "[nltk_data]    |     C:\\Users\\babybomber\\AppData\\Roaming\\nltk_data...\n",
      "[nltk_data]    |   Unzipping corpora\\inaugural.zip.\n",
      "[nltk_data]    | Downloading package movie_reviews to\n",
      "[nltk_data]    |     C:\\Users\\babybomber\\AppData\\Roaming\\nltk_data...\n",
      "[nltk_data]    |   Unzipping corpora\\movie_reviews.zip.\n",
      "[nltk_data]    | Downloading package names to\n",
      "[nltk_data]    |     C:\\Users\\babybomber\\AppData\\Roaming\\nltk_data...\n",
      "[nltk_data]    |   Unzipping corpora\\names.zip.\n",
      "[nltk_data]    | Downloading package shakespeare to\n",
      "[nltk_data]    |     C:\\Users\\babybomber\\AppData\\Roaming\\nltk_data...\n",
      "[nltk_data]    |   Unzipping corpora\\shakespeare.zip.\n",
      "[nltk_data]    | Downloading package stopwords to\n",
      "[nltk_data]    |     C:\\Users\\babybomber\\AppData\\Roaming\\nltk_data...\n",
      "[nltk_data]    |   Unzipping corpora\\stopwords.zip.\n",
      "[nltk_data]    | Downloading package treebank to\n",
      "[nltk_data]    |     C:\\Users\\babybomber\\AppData\\Roaming\\nltk_data...\n",
      "[nltk_data]    |   Unzipping corpora\\treebank.zip.\n",
      "[nltk_data]    | Downloading package twitter_samples to\n",
      "[nltk_data]    |     C:\\Users\\babybomber\\AppData\\Roaming\\nltk_data...\n",
      "[nltk_data]    |   Unzipping corpora\\twitter_samples.zip.\n",
      "[nltk_data]    | Downloading package omw to\n",
      "[nltk_data]    |     C:\\Users\\babybomber\\AppData\\Roaming\\nltk_data...\n",
      "[nltk_data]    |   Unzipping corpora\\omw.zip.\n",
      "[nltk_data]    | Downloading package wordnet to\n",
      "[nltk_data]    |     C:\\Users\\babybomber\\AppData\\Roaming\\nltk_data...\n",
      "[nltk_data]    |   Package wordnet is already up-to-date!\n",
      "[nltk_data]    | Downloading package wordnet_ic to\n",
      "[nltk_data]    |     C:\\Users\\babybomber\\AppData\\Roaming\\nltk_data...\n",
      "[nltk_data]    |   Unzipping corpora\\wordnet_ic.zip.\n",
      "[nltk_data]    | Downloading package words to\n",
      "[nltk_data]    |     C:\\Users\\babybomber\\AppData\\Roaming\\nltk_data...\n",
      "[nltk_data]    |   Unzipping corpora\\words.zip.\n",
      "[nltk_data]    | Downloading package maxent_ne_chunker to\n",
      "[nltk_data]    |     C:\\Users\\babybomber\\AppData\\Roaming\\nltk_data...\n",
      "[nltk_data]    |   Unzipping chunkers\\maxent_ne_chunker.zip.\n",
      "[nltk_data]    | Downloading package punkt to\n",
      "[nltk_data]    |     C:\\Users\\babybomber\\AppData\\Roaming\\nltk_data...\n",
      "[nltk_data]    |   Package punkt is already up-to-date!\n",
      "[nltk_data]    | Downloading package snowball_data to\n",
      "[nltk_data]    |     C:\\Users\\babybomber\\AppData\\Roaming\\nltk_data...\n",
      "[nltk_data]    | Downloading package averaged_perceptron_tagger to\n",
      "[nltk_data]    |     C:\\Users\\babybomber\\AppData\\Roaming\\nltk_data...\n",
      "[nltk_data]    |   Unzipping taggers\\averaged_perceptron_tagger.zip.\n",
      "[nltk_data]    | \n",
      "[nltk_data]  Done downloading collection popular\n"
     ]
    },
    {
     "data": {
      "text/plain": [
       "True"
      ]
     },
     "execution_count": 2,
     "metadata": {},
     "output_type": "execute_result"
    }
   ],
   "source": [
    "import nltk\n",
    "nltk.download(\"popular\")"
   ]
  },
  {
   "cell_type": "code",
   "execution_count": 3,
   "metadata": {},
   "outputs": [
    {
     "name": "stdout",
     "output_type": "stream",
     "text": [
      "['Assignment', '1', ',', 'Submitted', 'by', 'Sameer', 'Dhruw', ',', 'CSE', '17U02017']\n"
     ]
    }
   ],
   "source": [
    "#word toeknize\n",
    "from nltk.tokenize import word_tokenize as wt\n",
    "sample_text = \"Assignment 1, Submitted by Sameer Dhruw, CSE 17U02017\"\n",
    "print(wt(sample_text))"
   ]
  },
  {
   "cell_type": "code",
   "execution_count": 4,
   "metadata": {
    "colab": {
     "base_uri": "https://localhost:8080/",
     "height": 54
    },
    "colab_type": "code",
    "id": "mfm8GP1yKg30",
    "outputId": "350e95b3-57f4-413d-8d69-6c703d574578"
   },
   "outputs": [
    {
     "name": "stdout",
     "output_type": "stream",
     "text": [
      "['Mahatma', 'Gandhi', ',', 'byname', 'of', 'Mohandas', 'Karamchand', 'Gandhi', ',', '(', 'born', 'October', '2', ',', '1869', ',', 'Porbandar', ',', 'India—died', 'January', '30', ',', '1948', ',', 'Delhi', ')', ',', 'Indian', 'lawyer', ',', 'politician', ',', 'social', 'activist', ',', 'and', 'writer', 'who', 'became', 'the', 'leader', 'of', 'the', 'nationalist', 'movement', 'against', 'the', 'British', 'rule', 'of', 'India', '.']\n"
     ]
    }
   ],
   "source": [
    "#word tokenize\n",
    "from nltk.tokenize import word_tokenize as wt\n",
    "text = \"Mahatma Gandhi, byname of Mohandas Karamchand Gandhi, (born October 2, 1869, Porbandar, India—died January 30, 1948, Delhi), Indian lawyer, politician, social activist, and writer who became the leader of the nationalist movement against the British rule of India. \"\n",
    "print(wt(text))"
   ]
  },
  {
   "cell_type": "code",
   "execution_count": 5,
   "metadata": {
    "colab": {
     "base_uri": "https://localhost:8080/",
     "height": 54
    },
    "colab_type": "code",
    "id": "gdDvz_jXKmvx",
    "outputId": "d100f2d1-a2ba-4c45-91fe-ee19c6f8ca27"
   },
   "outputs": [
    {
     "name": "stdout",
     "output_type": "stream",
     "text": [
      "[' Mahatma Gandhi, byname of Mohandas Karamchand Gandhi, \\n(born October 2, 1869, Porbandar, India—died January 30, 1948, Delhi),\\n Indian lawyer, politician, social activist, and writer who became the\\n  leader of the nationalist movement against the British rule of India.']\n"
     ]
    }
   ],
   "source": [
    "# Tokenization of paragraphs/sentences\n",
    "import nltk\n",
    "\n",
    "\n",
    "paragraph = \"\"\" Mahatma Gandhi, byname of Mohandas Karamchand Gandhi, \n",
    "(born October 2, 1869, Porbandar, India—died January 30, 1948, Delhi),\n",
    " Indian lawyer, politician, social activist, and writer who became the\n",
    "  leader of the nationalist movement against the British rule of India. \"\"\"\n",
    "               \n",
    "# Tokenizing sentences\n",
    "sentences = nltk.sent_tokenize(paragraph)\n",
    "\n",
    "# Tokenizing words\n",
    "words = nltk.word_tokenize(paragraph)\n",
    "print(sentences)"
   ]
  },
  {
   "cell_type": "code",
   "execution_count": 6,
   "metadata": {
    "colab": {
     "base_uri": "https://localhost:8080/",
     "height": 102
    },
    "colab_type": "code",
    "id": "WBHtCkMsKs7k",
    "outputId": "0b3eb457-7f70-4af4-cfe3-4c71bac376bd"
   },
   "outputs": [
    {
     "name": "stderr",
     "output_type": "stream",
     "text": [
      "[nltk_data] Downloading package stopwords to\n",
      "[nltk_data]     C:\\Users\\babybomber\\AppData\\Roaming\\nltk_data...\n",
      "[nltk_data]   Package stopwords is already up-to-date!\n",
      "[nltk_data] Downloading package punkt to\n",
      "[nltk_data]     C:\\Users\\babybomber\\AppData\\Roaming\\nltk_data...\n",
      "[nltk_data]   Package punkt is already up-to-date!\n"
     ]
    },
    {
     "data": {
      "text/plain": [
       "True"
      ]
     },
     "execution_count": 6,
     "metadata": {},
     "output_type": "execute_result"
    }
   ],
   "source": [
    "#stop words\n",
    "from nltk.corpus import stopwords\n",
    "from nltk.tokenize import word_tokenize\n",
    "nltk.download('stopwords')\n",
    "nltk.download('punkt')"
   ]
  },
  {
   "cell_type": "code",
   "execution_count": 7,
   "metadata": {
    "colab": {
     "base_uri": "https://localhost:8080/",
     "height": 88
    },
    "colab_type": "code",
    "id": "_JggtYoXKtXC",
    "outputId": "f71ca180-9e15-49a0-e75e-c81d875a8bcd"
   },
   "outputs": [
    {
     "name": "stdout",
     "output_type": "stream",
     "text": [
      "['i', 'me', 'my', 'myself', 'we', 'our', 'ours', 'ourselves', 'you', \"you're\", \"you've\", \"you'll\", \"you'd\", 'your', 'yours', 'yourself', 'yourselves', 'he', 'him', 'his', 'himself', 'she', \"she's\", 'her', 'hers', 'herself', 'it', \"it's\", 'its', 'itself', 'they', 'them', 'their', 'theirs', 'themselves', 'what', 'which', 'who', 'whom', 'this', 'that', \"that'll\", 'these', 'those', 'am', 'is', 'are', 'was', 'were', 'be', 'been', 'being', 'have', 'has', 'had', 'having', 'do', 'does', 'did', 'doing', 'a', 'an', 'the', 'and', 'but', 'if', 'or', 'because', 'as', 'until', 'while', 'of', 'at', 'by', 'for', 'with', 'about', 'against', 'between', 'into', 'through', 'during', 'before', 'after', 'above', 'below', 'to', 'from', 'up', 'down', 'in', 'out', 'on', 'off', 'over', 'under', 'again', 'further', 'then', 'once', 'here', 'there', 'when', 'where', 'why', 'how', 'all', 'any', 'both', 'each', 'few', 'more', 'most', 'other', 'some', 'such', 'no', 'nor', 'not', 'only', 'own', 'same', 'so', 'than', 'too', 'very', 's', 't', 'can', 'will', 'just', 'don', \"don't\", 'should', \"should've\", 'now', 'd', 'll', 'm', 'o', 're', 've', 'y', 'ain', 'aren', \"aren't\", 'couldn', \"couldn't\", 'didn', \"didn't\", 'doesn', \"doesn't\", 'hadn', \"hadn't\", 'hasn', \"hasn't\", 'haven', \"haven't\", 'isn', \"isn't\", 'ma', 'mightn', \"mightn't\", 'mustn', \"mustn't\", 'needn', \"needn't\", 'shan', \"shan't\", 'shouldn', \"shouldn't\", 'wasn', \"wasn't\", 'weren', \"weren't\", 'won', \"won't\", 'wouldn', \"wouldn't\"]\n",
      "['Mahatma', 'Gandhi', ',', 'byname', 'of', 'Mohandas', 'Karamchand', 'Gandhi', ',', '(', 'born', 'October', '2', ',', '1869', ',', 'Porbandar', ',', 'India—died', 'January', '30', ',', '1948', ',', 'Delhi', ')', ',', 'Indian', 'lawyer', ',', 'politician', ',', 'social', 'activist', ',', 'and', 'writer', 'who', 'became', 'the', 'leader', 'of', 'the', 'nationalist', 'movement', 'against', 'the', 'British', 'rule', 'of', 'India', '.']\n",
      "['Mahatma', 'Gandhi', ',', 'byname', 'Mohandas', 'Karamchand', 'Gandhi', ',', '(', 'born', 'October', '2', ',', '1869', ',', 'Porbandar', ',', 'India—died', 'January', '30', ',', '1948', ',', 'Delhi', ')', ',', 'Indian', 'lawyer', ',', 'politician', ',', 'social', 'activist', ',', 'writer', 'became', 'leader', 'nationalist', 'movement', 'British', 'rule', 'India', '.']\n"
     ]
    }
   ],
   "source": [
    "print(stopwords.words('english'))\n",
    "\n",
    "text = \" Mahatma Gandhi, byname of Mohandas Karamchand Gandhi, (born October 2, 1869, Porbandar, India—died January 30, 1948, Delhi),  Indian lawyer, politician, social activist, and writer who became the leader of the nationalist movement against the British rule of India. \"\n",
    "text_tokens = word_tokenize(text)\n",
    "\n",
    "tokens_without_sw = [word for word in text_tokens if not word in stopwords.words('english')]\n",
    "\n",
    "print(text_tokens)\n",
    "print(tokens_without_sw)"
   ]
  },
  {
   "cell_type": "code",
   "execution_count": 8,
   "metadata": {
    "colab": {
     "base_uri": "https://localhost:8080/",
     "height": 34
    },
    "colab_type": "code",
    "id": "j4lXmWVPKtdo",
    "outputId": "b75d79b9-1782-4089-951f-8ac0340aab22"
   },
   "outputs": [
    {
     "name": "stdout",
     "output_type": "stream",
     "text": [
      "If , as an indian , you feel veri emot and happi everi 15th august , here is a list of other 5 nation whose citizen feel the same for their countri too .\n"
     ]
    }
   ],
   "source": [
    "#stemming\n",
    "from nltk.stem.porter import *\n",
    "\n",
    "porterStemmer = PorterStemmer()\n",
    "\n",
    "sentence=\"If, as an Indian, you feel very emotional and happy every 15th August, here is a list of other 5 nations whose citizens feel the same for their country too.\"\n",
    "wordList = nltk.word_tokenize(sentence)\n",
    "\n",
    "stemWords = [porterStemmer.stem(word) for word in wordList]\n",
    "\n",
    "print(' '.join(stemWords))"
   ]
  },
  {
   "cell_type": "code",
   "execution_count": 9,
   "metadata": {
    "colab": {
     "base_uri": "https://localhost:8080/",
     "height": 544
    },
    "colab_type": "code",
    "id": "SQ7oXAizKtjG",
    "outputId": "2dda3a23-3a96-4d4a-9b99-cc3cdc5493bf"
   },
   "outputs": [
    {
     "name": "stdout",
     "output_type": "stream",
     "text": [
      "Word                Lemma               \n",
      "If                  If                  \n",
      "as                  a                   \n",
      "an                  an                  \n",
      "Indian              Indian              \n",
      "you                 you                 \n",
      "feel                feel                \n",
      "very                very                \n",
      "emotional           emotional           \n",
      "and                 and                 \n",
      "happy               happy               \n",
      "every               every               \n",
      "15th                15th                \n",
      "August              August              \n",
      "here                here                \n",
      "is                  is                  \n",
      "a                   a                   \n",
      "list                list                \n",
      "of                  of                  \n",
      "other               other               \n",
      "5                   5                   \n",
      "nations             nation              \n",
      "whose               whose               \n",
      "citizens            citizen             \n",
      "feel                feel                \n",
      "the                 the                 \n",
      "same                same                \n",
      "for                 for                 \n",
      "their               their               \n",
      "country             country             \n",
      "too                 too                 \n"
     ]
    }
   ],
   "source": [
    "#word lemma\n",
    "from nltk.stem import WordNetLemmatizer\n",
    "wordnet_lemmatizer = WordNetLemmatizer()\n",
    "\n",
    "sentence = \"If, as an Indian, you feel very emotional and happy every 15th August, here is a list of other 5 nations whose citizens feel the same for their country too.\"\n",
    "punctuations=\"?:!.,;\"\n",
    "sentence_words = nltk.word_tokenize(sentence)\n",
    "for word in sentence_words:\n",
    "    if word in punctuations:\n",
    "        sentence_words.remove(word)\n",
    "\n",
    "sentence_words\n",
    "print(\"{0:20}{1:20}\".format(\"Word\",\"Lemma\"))\n",
    "for word in sentence_words:\n",
    "    print (\"{0:20}{1:20}\".format(word,wordnet_lemmatizer.lemmatize(word)))"
   ]
  },
  {
   "cell_type": "code",
   "execution_count": 10,
   "metadata": {
    "colab": {
     "base_uri": "https://localhost:8080/",
     "height": 425
    },
    "colab_type": "code",
    "id": "VL-6xIdCKtcw",
    "outputId": "51dfd78d-1298-4895-aa7c-6139c93b36f9"
   },
   "outputs": [
    {
     "data": {
      "text/plain": [
       "['In',\n",
       " 'India',\n",
       " ',',\n",
       " '15th',\n",
       " 'August',\n",
       " 'be',\n",
       " 'synonymous',\n",
       " 'with',\n",
       " 'the',\n",
       " 'country',\n",
       " \"'s\",\n",
       " 'march',\n",
       " 'into',\n",
       " 'freedom',\n",
       " 'when',\n",
       " 'the',\n",
       " 'British',\n",
       " 'coloniser',\n",
       " 'leave',\n",
       " 'the',\n",
       " 'soil',\n",
       " 'in',\n",
       " '1947',\n",
       " '.']"
      ]
     },
     "execution_count": 10,
     "metadata": {},
     "output_type": "execute_result"
    }
   ],
   "source": [
    "from nltk import word_tokenize, pos_tag\n",
    "from nltk.stem import WordNetLemmatizer\n",
    "wnl = WordNetLemmatizer()\n",
    "txt = \"\"\"In India, 15th August is synonymous with the country's march into freedom when the British colonisers left the soil in 1947.\"\"\"\n",
    "[wnl.lemmatize(i,j[0].lower()) if j[0].lower() in ['a','n','v'] else wnl.lemmatize(i) for i,j in pos_tag(word_tokenize(txt))]\n"
   ]
  },
  {
   "cell_type": "code",
   "execution_count": 11,
   "metadata": {
    "colab": {
     "base_uri": "https://localhost:8080/",
     "height": 425
    },
    "colab_type": "code",
    "id": "fde145o2KtWR",
    "outputId": "5783ebbf-c1be-48ab-d6aa-566a30cb4b59"
   },
   "outputs": [
    {
     "data": {
      "text/plain": [
       "['In',\n",
       " 'India',\n",
       " ',',\n",
       " '15th',\n",
       " 'August',\n",
       " 'is',\n",
       " 'synonymous',\n",
       " 'with',\n",
       " 'the',\n",
       " 'country',\n",
       " \"'s\",\n",
       " 'march',\n",
       " 'into',\n",
       " 'freedom',\n",
       " 'when',\n",
       " 'the',\n",
       " 'British',\n",
       " 'colonisers',\n",
       " 'left',\n",
       " 'the',\n",
       " 'soil',\n",
       " 'in',\n",
       " '1947',\n",
       " '.']"
      ]
     },
     "execution_count": 11,
     "metadata": {},
     "output_type": "execute_result"
    }
   ],
   "source": [
    "# TreebankWordTokenizer\n",
    "from nltk.tokenize import TreebankWordTokenizer\n",
    "text = \"In India, 15th August is synonymous with the country's march into freedom when the British colonisers left the soil in 1947. \"\n",
    "TreebankWordTokenizer().tokenize(text)"
   ]
  }
 ],
 "metadata": {
  "colab": {
   "name": "Untitled9.ipynb",
   "provenance": []
  },
  "kernelspec": {
   "display_name": "Python 3",
   "language": "python",
   "name": "python3"
  },
  "language_info": {
   "codemirror_mode": {
    "name": "ipython",
    "version": 3
   },
   "file_extension": ".py",
   "mimetype": "text/x-python",
   "name": "python",
   "nbconvert_exporter": "python",
   "pygments_lexer": "ipython3",
   "version": "3.7.6"
  }
 },
 "nbformat": 4,
 "nbformat_minor": 1
}
